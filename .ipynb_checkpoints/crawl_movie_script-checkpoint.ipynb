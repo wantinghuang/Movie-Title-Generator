{
 "cells": [
  {
   "cell_type": "markdown",
   "metadata": {},
   "source": [
    "# 電影對白爬蟲程式"
   ]
  },
  {
   "cell_type": "code",
   "execution_count": 80,
   "metadata": {
    "collapsed": true
   },
   "outputs": [],
   "source": [
    "import urllib.request as ur\n",
    "from pythonopensubtitles.opensubtitles import OpenSubtitles\n",
    "import fnmatch\n",
    "import os\n",
    "import time\n",
    "import zipfile\n",
    "import re\n",
    "import pickle\n",
    "from opencc import OpenCC \n",
    "#path = '/Users/Wan-Ting/Google Drive/NCTU/NLP/lab2/crawler'\n",
    "#os.chdir(path)"
   ]
  },
  {
   "cell_type": "code",
   "execution_count": 81,
   "metadata": {
    "collapsed": true
   },
   "outputs": [],
   "source": [
    "def t2s(text):\n",
    "    openCC = OpenCC('tw2sp')  # Traditional Chinese (Taiwan standard) to Simplified Chinese (with phrases)\n",
    "    to_convert = text\n",
    "    converted = openCC.convert(to_convert)\n",
    "    return converted\n",
    "def s2t(text):\n",
    "    openCC = OpenCC('s2t')  # convert from Simplified Chinese to Traditional Chinese\n",
    "    # can also set conversion by calling set_conversion\n",
    "    # openCC.set_conversion('s2tw')\n",
    "    to_convert = text\n",
    "    converted = openCC.convert(to_convert)\n",
    "    return converted"
   ]
  },
  {
   "cell_type": "code",
   "execution_count": 82,
   "metadata": {
    "collapsed": true
   },
   "outputs": [],
   "source": [
    "def download(url,directory_to_extract_to='/Users/Wan-Ting/Downloads/lines'):\n",
    "    req = ur.Request(url, headers={'User-Agent': 'Mozilla/5.0'})\n",
    "    html = ur.urlopen(req).read()\n",
    "    #將zip檔另存\n",
    "    with open(\"script.zip\", 'wb') as f:\n",
    "        f.write(html)  \n",
    "        \n",
    "    with zipfile.ZipFile(open('script.zip', 'rb')) as f:\n",
    "        FileName = fnmatch.filter(f.namelist(),\"*.srt\")+fnmatch.filter(f.namelist(),\"*.ass\")\n",
    "        if len(FileName)!=0:\n",
    "            #讀取解壓縮的檔案，並彙整台詞成→new_lines\n",
    "            for file_name in FileName:\n",
    "                #資料解壓縮\n",
    "                f.extract(member=file_name, path=directory_to_extract_to)        \n",
    "        else:\n",
    "            print(\"no .srt script\")\n",
    "    #print(FileName,\"downloaded!\")\n",
    "    return FileName"
   ]
  },
  {
   "cell_type": "code",
   "execution_count": 83,
   "metadata": {
    "collapsed": true
   },
   "outputs": [],
   "source": [
    "def search(movietitle):\n",
    "    ost = OpenSubtitles()\n",
    "    token = ost.login(\"doctest\", 'doctest')\n",
    "    movie = ost.search_subtitles([{'query' :movietitle, 'sublanguageid' : 'zht'}])\n",
    "    return movie"
   ]
  },
  {
   "cell_type": "code",
   "execution_count": 84,
   "metadata": {
    "collapsed": true
   },
   "outputs": [],
   "source": [
    "def is_time_stamp(l):\n",
    "    if l[:2].isnumeric() and l[2] == ':':\n",
    "        return True\n",
    "    return False\n",
    "\n",
    "\n",
    "def has_no_text(line):\n",
    "    #移除分隔符號\n",
    "    l = line.strip('\\n')\n",
    "    if not len(l):\n",
    "        return True\n",
    "    if l.isnumeric():\n",
    "        return True\n",
    "    if is_time_stamp(l):\n",
    "        return True\n",
    "    if l[0] == '(' and l[-1] == ')':\n",
    "        return True\n",
    "    return False\n",
    "\n",
    "def is_lowercase_letter_or_comma(letter):\n",
    "    if letter.isalpha() and letter.lower() == letter:\n",
    "        return True\n",
    "    if letter == ',':\n",
    "        return True\n",
    "    return False\n",
    "\n",
    "def clean_up(lines):\n",
    "    new_lines = []\n",
    "    for line in lines[:]:\n",
    "        #line = lines[6]\n",
    "        if has_no_text(line):\n",
    "            continue\n",
    "\n",
    "        else:\n",
    "          #append line\n",
    "          new_lines.append(line)\n",
    "    return new_lines"
   ]
  },
  {
   "cell_type": "code",
   "execution_count": 85,
   "metadata": {
    "collapsed": true
   },
   "outputs": [],
   "source": [
    "#讀入電影清單(.txt檔)\n",
    "file = open('/Users/Wan-Ting/Downloads/movie.txt', 'r', encoding = 'utf-8') \n",
    "Data = file.read()\n",
    "Data = Data.splitlines()\n",
    "file.close()\n",
    "#將電影名稱全部轉小寫、以''取代'、去除空白以外的符號\n",
    "#List = [x.lower() for x in Data]\n",
    "#List = [x.replace(\"'\" ,'') for x in List]\n",
    "#movietitle_ls = [re.sub(r\"[^a-zA-Z0-9]+\", ' ', k) for k in List]\n",
    "#print(List)"
   ]
  },
  {
   "cell_type": "code",
   "execution_count": 86,
   "metadata": {
    "collapsed": true
   },
   "outputs": [],
   "source": [
    "movietitle_ls = [line.split('\\t') for line in Data[1:]]"
   ]
  },
  {
   "cell_type": "code",
   "execution_count": null,
   "metadata": {
    "collapsed": true
   },
   "outputs": [],
   "source": [
    "directory_to_extract_to='/Users/Wan-Ting/Downloads/lines'\n",
    "t = open(\"0452627_黃婉婷_task1.txt\",\"w\")\n",
    "for mt in movietitle_ls:\n",
    "    print(movietitle)\n",
    "    movietitle = mt[0]\n",
    "    ost = OpenSubtitles()\n",
    "    token = ost.login(\"doctest\", 'doctest')\n",
    "    movies = ost.search_subtitles([{'query' :movietitle, 'sublanguageid' : 'zht'}])\n",
    "\n",
    "    value = 0\n",
    "    ls = []\n",
    "    for movie in movies:\n",
    "        if movie['IDMovieImdb'] == mt[1]:\n",
    "            if value < int(movie['SubDownloadsCnt']):\n",
    "                value = int(movie['SubDownloadsCnt'])\n",
    "                ls.append(movie)\n",
    "        else:\n",
    "            pass\n",
    "            #print('imdbid does not match')\n",
    "    if len(ls):\n",
    "        high = ls[-1]\n",
    "        srt_ls = download(high['ZipDownloadLink'])\n",
    "        #print('downloaded!')\n",
    "        #print(srt_ls[0],high['SubEncoding'])\n",
    "        if high['SubEncoding']=='':\n",
    "            encoding = 'utf-8'\n",
    "        else:\n",
    "            encoding = high['SubEncoding']\n",
    "        with open(os.path.join(directory_to_extract_to,srt_ls[0]),encoding = encoding, errors=\"ignore\") as f: #\n",
    "            l = f.readlines()\n",
    "        num = len(clean_up(l))\n",
    "        t.write(high['MovieReleaseName']+'\\t'+high['SubDownloadLink']+'\\t'+str(num)+'\\n')\n",
    "    else:\n",
    "        print(\"ls is empty.\")\n",
    "\n",
    "t.close()\n",
    "print(\"done!\")"
   ]
  }
 ],
 "metadata": {
  "kernelspec": {
   "display_name": "Python 3",
   "language": "python",
   "name": "python3"
  },
  "language_info": {
   "codemirror_mode": {
    "name": "ipython",
    "version": 3
   },
   "file_extension": ".py",
   "mimetype": "text/x-python",
   "name": "python",
   "nbconvert_exporter": "python",
   "pygments_lexer": "ipython3",
   "version": "3.4.1"
  }
 },
 "nbformat": 4,
 "nbformat_minor": 2
}
