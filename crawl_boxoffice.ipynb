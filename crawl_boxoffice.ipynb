{
 "cells": [
  {
   "cell_type": "markdown",
   "metadata": {},
   "source": [
    "# 抓取電影票房"
   ]
  },
  {
   "cell_type": "code",
   "execution_count": 1,
   "metadata": {
    "collapsed": true
   },
   "outputs": [],
   "source": [
    "import numpy as np\n",
    "import requests\n",
    "from bs4 import BeautifulSoup"
   ]
  },
  {
   "cell_type": "markdown",
   "metadata": {},
   "source": [
    "#### 測試"
   ]
  },
  {
   "cell_type": "code",
   "execution_count": 99,
   "metadata": {},
   "outputs": [
    {
     "data": {
      "text/plain": [
       "'daddy%27s%20home'"
      ]
     },
     "execution_count": 99,
     "metadata": {},
     "output_type": "execute_result"
    }
   ],
   "source": [
    "movietitle=\"daddy's home\"\n",
    "title=movietitle.replace(' ', '%20')\n",
    "title=title.replace(\"'\", '%27')\n",
    "title"
   ]
  },
  {
   "cell_type": "code",
   "execution_count": 100,
   "metadata": {
    "collapsed": true
   },
   "outputs": [],
   "source": [
    "domain = \"http://www.boxofficemojo.com/\"\n",
    "search=domain+\"search/?q=\"\n",
    "# 用 requests 抓取網頁並存在 response \n",
    "response = requests.get(search+title)\n",
    "# 用 BeautifulSoup 解析 HTML 並把結果回傳 soup \n",
    "soup = BeautifulSoup(response.text, \"lxml\")"
   ]
  },
  {
   "cell_type": "code",
   "execution_count": 101,
   "metadata": {},
   "outputs": [],
   "source": [
    "result = soup.find_all('b')"
   ]
  },
  {
   "cell_type": "code",
   "execution_count": 102,
   "metadata": {},
   "outputs": [
    {
     "name": "stdout",
     "output_type": "stream",
     "text": [
      "/movies/?id=daddyshome.htm\n"
     ]
    }
   ],
   "source": [
    "for b in list(result):\n",
    "    if str(b)[-15:]==\"</a></font></b>\":\n",
    "        b=str(b)\n",
    "        a = b.split('<b><font face=\"verdana\" size=\"2\"><a href=')[1]\n",
    "        c = a.split(\"</a></font></b>\")[0]\n",
    "        d = c.split('>')\n",
    "        movieID = d[0].strip('\"')\n",
    "        movieNAME = d[1]\n",
    "        if movieNAME.lower() == movietitle:\n",
    "            print(movieID)"
   ]
  },
  {
   "cell_type": "code",
   "execution_count": 104,
   "metadata": {},
   "outputs": [],
   "source": [
    "response2 = requests.get(domain+movieID)\n",
    "soup2 = BeautifulSoup(response2.text, \"lxml\")"
   ]
  },
  {
   "cell_type": "code",
   "execution_count": 105,
   "metadata": {},
   "outputs": [],
   "source": [
    "number = soup2.find_all(\"td\",width=\"35%\",align=\"right\")[1].text\n",
    "number = number.replace(\"$\",\"\")\n",
    "number = number.replace(\",\",\"\")"
   ]
  },
  {
   "cell_type": "code",
   "execution_count": 106,
   "metadata": {},
   "outputs": [
    {
     "name": "stdout",
     "output_type": "stream",
     "text": [
      " 92429000\n"
     ]
    }
   ],
   "source": [
    "print(number)"
   ]
  },
  {
   "cell_type": "markdown",
   "metadata": {},
   "source": [
    "#### 正式"
   ]
  },
  {
   "cell_type": "code",
   "execution_count": 47,
   "metadata": {
    "collapsed": true
   },
   "outputs": [],
   "source": [
    "f = open ('電影名稱中英對照表.txt','r')\n",
    "lst = f.read()\n",
    "ls = lst.split('\\n')"
   ]
  },
  {
   "cell_type": "code",
   "execution_count": 257,
   "metadata": {
    "collapsed": true
   },
   "outputs": [],
   "source": [
    "def boxoffice2(movietitle):\n",
    "    title=movietitle.replace(' ', '%20')\n",
    "    title=title.replace(\"'\", '%27')\n",
    "    domain = \"http://www.boxofficemojo.com/\"\n",
    "    search=domain+\"search/?q=\"\n",
    "    # 用 requests 抓取網頁並存在 response \n",
    "    response = requests.get(search+title)\n",
    "    # 用 BeautifulSoup 解析 HTML 並把結果回傳 soup \n",
    "    soup = BeautifulSoup(response.text, \"lxml\")\n",
    "    result = soup.find_all('b')\n",
    "    number=\"movie not found.\"\n",
    "    for b in list(result):\n",
    "        if str(b)[-15:]==\"</a></font></b>\":\n",
    "            b=str(b)\n",
    "            a = b.split('<b><font face=\"verdana\" size=\"2\"><a href=')[1]\n",
    "            c = a.split(\"</a></font></b>\")[0]\n",
    "            d = c.split('>')\n",
    "            movieID = d[0].strip('\"')\n",
    "            movieNAME = d[1]\n",
    "            movieNAME = movieNAME.lower()\n",
    "            movieNAME = movieNAME.replace(\",\",\"\")\n",
    "            if movieNAME.lower() == movietitle:\n",
    "                response2 = requests.get(domain+movieID)\n",
    "                soup2 = BeautifulSoup(response2.text, \"lxml\")\n",
    "                try:\n",
    "                    number = soup2.find_all(\"td\",width=\"35%\",align=\"right\")[2].text\n",
    "                except:\n",
    "                    number = soup2.find_all(\"td\",width=\"35%\",align=\"right\")[0].text\n",
    "                number = number.split(\"$\")[1]\n",
    "                number = number.replace(\",\",\"\")\n",
    "                break\n",
    "            if b==list(result)[-1] and movieNAME != movietitle:\n",
    "                print(\"movie not found.\")\n",
    "    return number"
   ]
  },
  {
   "cell_type": "code",
   "execution_count": 259,
   "metadata": {},
   "outputs": [
    {
     "name": "stdout",
     "output_type": "stream",
     "text": [
      "fury\n",
      "life\n",
      "man up\n",
      "pitch perfect 2\n",
      "sabotage\n",
      "wild card\n",
      "done!!!\n"
     ]
    }
   ],
   "source": [
    "f = open ('電影票房.txt','w')\n",
    "for line in ls:\n",
    "    movietitle = line.split(\"\\t\")[0]\n",
    "    try:\n",
    "        f.write(line+'\\t'+boxoffice2(movietitle)+'\\n')\n",
    "    except:\n",
    "        print(movietitle)\n",
    "f.close()\n",
    "print('done!!!')"
   ]
  }
 ],
 "metadata": {
  "kernelspec": {
   "display_name": "Python 3",
   "language": "python",
   "name": "python3"
  },
  "language_info": {
   "codemirror_mode": {
    "name": "ipython",
    "version": 3
   },
   "file_extension": ".py",
   "mimetype": "text/x-python",
   "name": "python",
   "nbconvert_exporter": "python",
   "pygments_lexer": "ipython3",
   "version": "3.4.1"
  }
 },
 "nbformat": 4,
 "nbformat_minor": 2
}
